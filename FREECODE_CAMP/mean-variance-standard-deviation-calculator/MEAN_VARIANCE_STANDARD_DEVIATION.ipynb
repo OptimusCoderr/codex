{
 "cells": [
  {
   "cell_type": "code",
   "execution_count": 11,
   "metadata": {},
   "outputs": [
    {
     "name": "stdout",
     "output_type": "stream",
     "text": [
      "[[1 2 3]\n",
      " [4 5 6]\n",
      " [7 8 9]]\n"
     ]
    }
   ],
   "source": [
    "import numpy as np\n",
    "#created a list\n",
    "list=[1,2,3,4,5,6,7,8,9] \n",
    "\n",
    "#Convert list to numpy array\n",
    "array_1=np.array(list)\n",
    "array_3=np.array(list).reshape((3,3))\n",
    "print(array_3)\n",
    "\n",
    "\n"
   ]
  },
  {
   "cell_type": "code",
   "execution_count": 12,
   "metadata": {},
   "outputs": [
    {
     "name": "stdout",
     "output_type": "stream",
     "text": [
      "[12 15 18]\n",
      "[ 6 15 24]\n"
     ]
    }
   ],
   "source": [
    "#sum of rows\n",
    "row_sum=np.sum(array_3,axis=0)\n",
    "print(row_sum)\n",
    "\n",
    "#sum of columns\n",
    "column_sum=np.sum(array_3,axis=1)\n",
    "print(column_sum)\n",
    "\n",
    "#sum of flattened\n",
    "\n"
   ]
  },
  {
   "cell_type": "code",
   "execution_count": 13,
   "metadata": {},
   "outputs": [
    {
     "name": "stdout",
     "output_type": "stream",
     "text": [
      "[1 2 3]\n",
      "[1 4 7]\n"
     ]
    }
   ],
   "source": [
    "#MIN OF ROWS\n",
    "row_min=np.min(array_3,axis=0)\n",
    "print(row_min)\n",
    "\n",
    "#MIN OF columns\n",
    "column_min=np.min(array_3,axis=1)\n",
    "print(column_min)"
   ]
  },
  {
   "cell_type": "code",
   "execution_count": 14,
   "metadata": {},
   "outputs": [
    {
     "name": "stdout",
     "output_type": "stream",
     "text": [
      "[7 8 9]\n",
      "[3 6 9]\n"
     ]
    }
   ],
   "source": [
    "#MAX OF ROWS\n",
    "row_max=np.max(array_3,axis=0)\n",
    "print(row_max)\n",
    "\n",
    "#MAX OF columns\n",
    "column_max=np.max(array_3,axis=1)\n",
    "print(column_max)"
   ]
  },
  {
   "cell_type": "code",
   "execution_count": null,
   "metadata": {},
   "outputs": [],
   "source": [
    "#MAX OF ROWS\n",
    "row_max=np.max(array_3,axis=0)\n",
    "print(row_max)\n",
    "\n",
    "#MAX OF columns\n",
    "column_max=np.max(array_3,axis=1)\n",
    "print(column_max)"
   ]
  }
 ],
 "metadata": {
  "kernelspec": {
   "display_name": "Python 3",
   "language": "python",
   "name": "python3"
  },
  "language_info": {
   "codemirror_mode": {
    "name": "ipython",
    "version": 3
   },
   "file_extension": ".py",
   "mimetype": "text/x-python",
   "name": "python",
   "nbconvert_exporter": "python",
   "pygments_lexer": "ipython3",
   "version": "3.10.1"
  },
  "orig_nbformat": 4
 },
 "nbformat": 4,
 "nbformat_minor": 2
}
